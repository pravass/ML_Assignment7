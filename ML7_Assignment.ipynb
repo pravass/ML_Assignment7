{
  "nbformat": 4,
  "nbformat_minor": 0,
  "metadata": {
    "colab": {
      "name": "Untitled5.ipynb",
      "version": "0.3.2",
      "provenance": [],
      "collapsed_sections": []
    },
    "kernelspec": {
      "name": "python3",
      "display_name": "Python 3"
    }
  },
  "cells": [
    {
      "cell_type": "code",
      "metadata": {
        "id": "THtHQ-3lM5Nz",
        "colab_type": "code",
        "colab": {}
      },
      "source": [
        "import pandas as pd\n",
        "import numpy as np\n",
        "from sklearn import preprocessing\n",
        "from sklearn.preprocessing import Imputer\n",
        "from sklearn.model_selection import train_test_split\n",
        "from sklearn.neighbors import KNeighborsClassifier\n",
        "from sklearn.neighbors import KNeighborsRegressor\n",
        "from sklearn.metrics import accuracy_score\n"
      ],
      "execution_count": 0,
      "outputs": []
    },
    {
      "cell_type": "code",
      "metadata": {
        "id": "UhmAiMPYNN0D",
        "colab_type": "code",
        "colab": {
          "base_uri": "https://localhost:8080/",
          "height": 309
        },
        "outputId": "60d00563-e79a-4fcd-faf1-95da043e73e9"
      },
      "source": [
        "url = 'https://raw.githubusercontent.com/pravass/Shampoo-Sales-Data/master/nba_2013.csv'\n",
        "df = pd.read_csv(url)\n",
        "df.head()"
      ],
      "execution_count": 2,
      "outputs": [
        {
          "output_type": "execute_result",
          "data": {
            "text/html": [
              "<div>\n",
              "<style scoped>\n",
              "    .dataframe tbody tr th:only-of-type {\n",
              "        vertical-align: middle;\n",
              "    }\n",
              "\n",
              "    .dataframe tbody tr th {\n",
              "        vertical-align: top;\n",
              "    }\n",
              "\n",
              "    .dataframe thead th {\n",
              "        text-align: right;\n",
              "    }\n",
              "</style>\n",
              "<table border=\"1\" class=\"dataframe\">\n",
              "  <thead>\n",
              "    <tr style=\"text-align: right;\">\n",
              "      <th></th>\n",
              "      <th>player</th>\n",
              "      <th>pos</th>\n",
              "      <th>age</th>\n",
              "      <th>bref_team_id</th>\n",
              "      <th>g</th>\n",
              "      <th>gs</th>\n",
              "      <th>mp</th>\n",
              "      <th>fg</th>\n",
              "      <th>fga</th>\n",
              "      <th>fg.</th>\n",
              "      <th>x3p</th>\n",
              "      <th>x3pa</th>\n",
              "      <th>x3p.</th>\n",
              "      <th>x2p</th>\n",
              "      <th>x2pa</th>\n",
              "      <th>x2p.</th>\n",
              "      <th>efg.</th>\n",
              "      <th>ft</th>\n",
              "      <th>fta</th>\n",
              "      <th>ft.</th>\n",
              "      <th>orb</th>\n",
              "      <th>drb</th>\n",
              "      <th>trb</th>\n",
              "      <th>ast</th>\n",
              "      <th>stl</th>\n",
              "      <th>blk</th>\n",
              "      <th>tov</th>\n",
              "      <th>pf</th>\n",
              "      <th>pts</th>\n",
              "      <th>season</th>\n",
              "      <th>season_end</th>\n",
              "    </tr>\n",
              "  </thead>\n",
              "  <tbody>\n",
              "    <tr>\n",
              "      <th>0</th>\n",
              "      <td>Quincy Acy</td>\n",
              "      <td>SF</td>\n",
              "      <td>23</td>\n",
              "      <td>TOT</td>\n",
              "      <td>63</td>\n",
              "      <td>0</td>\n",
              "      <td>847</td>\n",
              "      <td>66</td>\n",
              "      <td>141</td>\n",
              "      <td>0.468</td>\n",
              "      <td>4</td>\n",
              "      <td>15</td>\n",
              "      <td>0.266667</td>\n",
              "      <td>62</td>\n",
              "      <td>126</td>\n",
              "      <td>0.492063</td>\n",
              "      <td>0.482</td>\n",
              "      <td>35</td>\n",
              "      <td>53</td>\n",
              "      <td>0.660</td>\n",
              "      <td>72</td>\n",
              "      <td>144</td>\n",
              "      <td>216</td>\n",
              "      <td>28</td>\n",
              "      <td>23</td>\n",
              "      <td>26</td>\n",
              "      <td>30</td>\n",
              "      <td>122</td>\n",
              "      <td>171</td>\n",
              "      <td>2013-2014</td>\n",
              "      <td>2013</td>\n",
              "    </tr>\n",
              "    <tr>\n",
              "      <th>1</th>\n",
              "      <td>Steven Adams</td>\n",
              "      <td>C</td>\n",
              "      <td>20</td>\n",
              "      <td>OKC</td>\n",
              "      <td>81</td>\n",
              "      <td>20</td>\n",
              "      <td>1197</td>\n",
              "      <td>93</td>\n",
              "      <td>185</td>\n",
              "      <td>0.503</td>\n",
              "      <td>0</td>\n",
              "      <td>0</td>\n",
              "      <td>NaN</td>\n",
              "      <td>93</td>\n",
              "      <td>185</td>\n",
              "      <td>0.502703</td>\n",
              "      <td>0.503</td>\n",
              "      <td>79</td>\n",
              "      <td>136</td>\n",
              "      <td>0.581</td>\n",
              "      <td>142</td>\n",
              "      <td>190</td>\n",
              "      <td>332</td>\n",
              "      <td>43</td>\n",
              "      <td>40</td>\n",
              "      <td>57</td>\n",
              "      <td>71</td>\n",
              "      <td>203</td>\n",
              "      <td>265</td>\n",
              "      <td>2013-2014</td>\n",
              "      <td>2013</td>\n",
              "    </tr>\n",
              "    <tr>\n",
              "      <th>2</th>\n",
              "      <td>Jeff Adrien</td>\n",
              "      <td>PF</td>\n",
              "      <td>27</td>\n",
              "      <td>TOT</td>\n",
              "      <td>53</td>\n",
              "      <td>12</td>\n",
              "      <td>961</td>\n",
              "      <td>143</td>\n",
              "      <td>275</td>\n",
              "      <td>0.520</td>\n",
              "      <td>0</td>\n",
              "      <td>0</td>\n",
              "      <td>NaN</td>\n",
              "      <td>143</td>\n",
              "      <td>275</td>\n",
              "      <td>0.520000</td>\n",
              "      <td>0.520</td>\n",
              "      <td>76</td>\n",
              "      <td>119</td>\n",
              "      <td>0.639</td>\n",
              "      <td>102</td>\n",
              "      <td>204</td>\n",
              "      <td>306</td>\n",
              "      <td>38</td>\n",
              "      <td>24</td>\n",
              "      <td>36</td>\n",
              "      <td>39</td>\n",
              "      <td>108</td>\n",
              "      <td>362</td>\n",
              "      <td>2013-2014</td>\n",
              "      <td>2013</td>\n",
              "    </tr>\n",
              "    <tr>\n",
              "      <th>3</th>\n",
              "      <td>Arron Afflalo</td>\n",
              "      <td>SG</td>\n",
              "      <td>28</td>\n",
              "      <td>ORL</td>\n",
              "      <td>73</td>\n",
              "      <td>73</td>\n",
              "      <td>2552</td>\n",
              "      <td>464</td>\n",
              "      <td>1011</td>\n",
              "      <td>0.459</td>\n",
              "      <td>128</td>\n",
              "      <td>300</td>\n",
              "      <td>0.426667</td>\n",
              "      <td>336</td>\n",
              "      <td>711</td>\n",
              "      <td>0.472574</td>\n",
              "      <td>0.522</td>\n",
              "      <td>274</td>\n",
              "      <td>336</td>\n",
              "      <td>0.815</td>\n",
              "      <td>32</td>\n",
              "      <td>230</td>\n",
              "      <td>262</td>\n",
              "      <td>248</td>\n",
              "      <td>35</td>\n",
              "      <td>3</td>\n",
              "      <td>146</td>\n",
              "      <td>136</td>\n",
              "      <td>1330</td>\n",
              "      <td>2013-2014</td>\n",
              "      <td>2013</td>\n",
              "    </tr>\n",
              "    <tr>\n",
              "      <th>4</th>\n",
              "      <td>Alexis Ajinca</td>\n",
              "      <td>C</td>\n",
              "      <td>25</td>\n",
              "      <td>NOP</td>\n",
              "      <td>56</td>\n",
              "      <td>30</td>\n",
              "      <td>951</td>\n",
              "      <td>136</td>\n",
              "      <td>249</td>\n",
              "      <td>0.546</td>\n",
              "      <td>0</td>\n",
              "      <td>1</td>\n",
              "      <td>0.000000</td>\n",
              "      <td>136</td>\n",
              "      <td>248</td>\n",
              "      <td>0.548387</td>\n",
              "      <td>0.546</td>\n",
              "      <td>56</td>\n",
              "      <td>67</td>\n",
              "      <td>0.836</td>\n",
              "      <td>94</td>\n",
              "      <td>183</td>\n",
              "      <td>277</td>\n",
              "      <td>40</td>\n",
              "      <td>23</td>\n",
              "      <td>46</td>\n",
              "      <td>63</td>\n",
              "      <td>187</td>\n",
              "      <td>328</td>\n",
              "      <td>2013-2014</td>\n",
              "      <td>2013</td>\n",
              "    </tr>\n",
              "  </tbody>\n",
              "</table>\n",
              "</div>"
            ],
            "text/plain": [
              "          player pos  age bref_team_id  ...   pf   pts     season  season_end\n",
              "0     Quincy Acy  SF   23          TOT  ...  122   171  2013-2014        2013\n",
              "1   Steven Adams   C   20          OKC  ...  203   265  2013-2014        2013\n",
              "2    Jeff Adrien  PF   27          TOT  ...  108   362  2013-2014        2013\n",
              "3  Arron Afflalo  SG   28          ORL  ...  136  1330  2013-2014        2013\n",
              "4  Alexis Ajinca   C   25          NOP  ...  187   328  2013-2014        2013\n",
              "\n",
              "[5 rows x 31 columns]"
            ]
          },
          "metadata": {
            "tags": []
          },
          "execution_count": 2
        }
      ]
    },
    {
      "cell_type": "code",
      "metadata": {
        "id": "ziFz2tyKPjWW",
        "colab_type": "code",
        "colab": {
          "base_uri": "https://localhost:8080/",
          "height": 35
        },
        "outputId": "b83bef76-2f4c-4de2-9601-d36491aac7a9"
      },
      "source": [
        "df.shape"
      ],
      "execution_count": 3,
      "outputs": [
        {
          "output_type": "execute_result",
          "data": {
            "text/plain": [
              "(481, 31)"
            ]
          },
          "metadata": {
            "tags": []
          },
          "execution_count": 3
        }
      ]
    },
    {
      "cell_type": "code",
      "metadata": {
        "id": "YCI4WE_3PrOH",
        "colab_type": "code",
        "colab": {
          "base_uri": "https://localhost:8080/",
          "height": 641
        },
        "outputId": "bba3a7a7-25b6-440c-be4d-38e28f5fcd09"
      },
      "source": [
        "df.info()"
      ],
      "execution_count": 4,
      "outputs": [
        {
          "output_type": "stream",
          "text": [
            "<class 'pandas.core.frame.DataFrame'>\n",
            "RangeIndex: 481 entries, 0 to 480\n",
            "Data columns (total 31 columns):\n",
            "player          481 non-null object\n",
            "pos             481 non-null object\n",
            "age             481 non-null int64\n",
            "bref_team_id    481 non-null object\n",
            "g               481 non-null int64\n",
            "gs              481 non-null int64\n",
            "mp              481 non-null int64\n",
            "fg              481 non-null int64\n",
            "fga             481 non-null int64\n",
            "fg.             479 non-null float64\n",
            "x3p             481 non-null int64\n",
            "x3pa            481 non-null int64\n",
            "x3p.            414 non-null float64\n",
            "x2p             481 non-null int64\n",
            "x2pa            481 non-null int64\n",
            "x2p.            478 non-null float64\n",
            "efg.            479 non-null float64\n",
            "ft              481 non-null int64\n",
            "fta             481 non-null int64\n",
            "ft.             461 non-null float64\n",
            "orb             481 non-null int64\n",
            "drb             481 non-null int64\n",
            "trb             481 non-null int64\n",
            "ast             481 non-null int64\n",
            "stl             481 non-null int64\n",
            "blk             481 non-null int64\n",
            "tov             481 non-null int64\n",
            "pf              481 non-null int64\n",
            "pts             481 non-null int64\n",
            "season          481 non-null object\n",
            "season_end      481 non-null int64\n",
            "dtypes: float64(5), int64(22), object(4)\n",
            "memory usage: 116.6+ KB\n"
          ],
          "name": "stdout"
        }
      ]
    },
    {
      "cell_type": "code",
      "metadata": {
        "id": "QSfyzbuuPxCx",
        "colab_type": "code",
        "colab": {
          "base_uri": "https://localhost:8080/",
          "height": 314
        },
        "outputId": "663bc968-cfea-4563-afb3-1a53cf22db74"
      },
      "source": [
        "df.describe()"
      ],
      "execution_count": 5,
      "outputs": [
        {
          "output_type": "execute_result",
          "data": {
            "text/html": [
              "<div>\n",
              "<style scoped>\n",
              "    .dataframe tbody tr th:only-of-type {\n",
              "        vertical-align: middle;\n",
              "    }\n",
              "\n",
              "    .dataframe tbody tr th {\n",
              "        vertical-align: top;\n",
              "    }\n",
              "\n",
              "    .dataframe thead th {\n",
              "        text-align: right;\n",
              "    }\n",
              "</style>\n",
              "<table border=\"1\" class=\"dataframe\">\n",
              "  <thead>\n",
              "    <tr style=\"text-align: right;\">\n",
              "      <th></th>\n",
              "      <th>age</th>\n",
              "      <th>g</th>\n",
              "      <th>gs</th>\n",
              "      <th>mp</th>\n",
              "      <th>fg</th>\n",
              "      <th>fga</th>\n",
              "      <th>fg.</th>\n",
              "      <th>x3p</th>\n",
              "      <th>x3pa</th>\n",
              "      <th>x3p.</th>\n",
              "      <th>x2p</th>\n",
              "      <th>x2pa</th>\n",
              "      <th>x2p.</th>\n",
              "      <th>efg.</th>\n",
              "      <th>ft</th>\n",
              "      <th>fta</th>\n",
              "      <th>ft.</th>\n",
              "      <th>orb</th>\n",
              "      <th>drb</th>\n",
              "      <th>trb</th>\n",
              "      <th>ast</th>\n",
              "      <th>stl</th>\n",
              "      <th>blk</th>\n",
              "      <th>tov</th>\n",
              "      <th>pf</th>\n",
              "      <th>pts</th>\n",
              "      <th>season_end</th>\n",
              "    </tr>\n",
              "  </thead>\n",
              "  <tbody>\n",
              "    <tr>\n",
              "      <th>count</th>\n",
              "      <td>481.000000</td>\n",
              "      <td>481.000000</td>\n",
              "      <td>481.000000</td>\n",
              "      <td>481.000000</td>\n",
              "      <td>481.000000</td>\n",
              "      <td>481.000000</td>\n",
              "      <td>479.000000</td>\n",
              "      <td>481.000000</td>\n",
              "      <td>481.000000</td>\n",
              "      <td>414.000000</td>\n",
              "      <td>481.000000</td>\n",
              "      <td>481.000000</td>\n",
              "      <td>478.000000</td>\n",
              "      <td>479.000000</td>\n",
              "      <td>481.000000</td>\n",
              "      <td>481.000000</td>\n",
              "      <td>461.000000</td>\n",
              "      <td>481.000000</td>\n",
              "      <td>481.000000</td>\n",
              "      <td>481.000000</td>\n",
              "      <td>481.000000</td>\n",
              "      <td>481.000000</td>\n",
              "      <td>481.000000</td>\n",
              "      <td>481.000000</td>\n",
              "      <td>481.000000</td>\n",
              "      <td>481.000000</td>\n",
              "      <td>481.0</td>\n",
              "    </tr>\n",
              "    <tr>\n",
              "      <th>mean</th>\n",
              "      <td>26.509356</td>\n",
              "      <td>53.253638</td>\n",
              "      <td>25.571726</td>\n",
              "      <td>1237.386694</td>\n",
              "      <td>192.881497</td>\n",
              "      <td>424.463617</td>\n",
              "      <td>0.436436</td>\n",
              "      <td>39.613306</td>\n",
              "      <td>110.130977</td>\n",
              "      <td>0.285111</td>\n",
              "      <td>153.268191</td>\n",
              "      <td>314.332640</td>\n",
              "      <td>0.466947</td>\n",
              "      <td>0.480752</td>\n",
              "      <td>91.205821</td>\n",
              "      <td>120.642412</td>\n",
              "      <td>0.722419</td>\n",
              "      <td>55.810811</td>\n",
              "      <td>162.817048</td>\n",
              "      <td>218.627859</td>\n",
              "      <td>112.536383</td>\n",
              "      <td>39.280665</td>\n",
              "      <td>24.103950</td>\n",
              "      <td>71.862786</td>\n",
              "      <td>105.869023</td>\n",
              "      <td>516.582121</td>\n",
              "      <td>2013.0</td>\n",
              "    </tr>\n",
              "    <tr>\n",
              "      <th>std</th>\n",
              "      <td>4.198265</td>\n",
              "      <td>25.322711</td>\n",
              "      <td>29.658465</td>\n",
              "      <td>897.258840</td>\n",
              "      <td>171.832793</td>\n",
              "      <td>368.850833</td>\n",
              "      <td>0.098672</td>\n",
              "      <td>50.855639</td>\n",
              "      <td>132.751732</td>\n",
              "      <td>0.157633</td>\n",
              "      <td>147.223161</td>\n",
              "      <td>294.174554</td>\n",
              "      <td>0.104448</td>\n",
              "      <td>0.099552</td>\n",
              "      <td>103.667725</td>\n",
              "      <td>131.240639</td>\n",
              "      <td>0.160166</td>\n",
              "      <td>62.101191</td>\n",
              "      <td>145.348116</td>\n",
              "      <td>200.356507</td>\n",
              "      <td>131.019557</td>\n",
              "      <td>34.783590</td>\n",
              "      <td>30.875381</td>\n",
              "      <td>62.701690</td>\n",
              "      <td>71.213627</td>\n",
              "      <td>470.422228</td>\n",
              "      <td>0.0</td>\n",
              "    </tr>\n",
              "    <tr>\n",
              "      <th>min</th>\n",
              "      <td>19.000000</td>\n",
              "      <td>1.000000</td>\n",
              "      <td>0.000000</td>\n",
              "      <td>1.000000</td>\n",
              "      <td>0.000000</td>\n",
              "      <td>0.000000</td>\n",
              "      <td>0.000000</td>\n",
              "      <td>0.000000</td>\n",
              "      <td>0.000000</td>\n",
              "      <td>0.000000</td>\n",
              "      <td>0.000000</td>\n",
              "      <td>0.000000</td>\n",
              "      <td>0.000000</td>\n",
              "      <td>0.000000</td>\n",
              "      <td>0.000000</td>\n",
              "      <td>0.000000</td>\n",
              "      <td>0.000000</td>\n",
              "      <td>0.000000</td>\n",
              "      <td>0.000000</td>\n",
              "      <td>0.000000</td>\n",
              "      <td>0.000000</td>\n",
              "      <td>0.000000</td>\n",
              "      <td>0.000000</td>\n",
              "      <td>0.000000</td>\n",
              "      <td>0.000000</td>\n",
              "      <td>0.000000</td>\n",
              "      <td>2013.0</td>\n",
              "    </tr>\n",
              "    <tr>\n",
              "      <th>25%</th>\n",
              "      <td>23.000000</td>\n",
              "      <td>32.000000</td>\n",
              "      <td>0.000000</td>\n",
              "      <td>388.000000</td>\n",
              "      <td>47.000000</td>\n",
              "      <td>110.000000</td>\n",
              "      <td>0.400500</td>\n",
              "      <td>0.000000</td>\n",
              "      <td>3.000000</td>\n",
              "      <td>0.234355</td>\n",
              "      <td>31.000000</td>\n",
              "      <td>67.000000</td>\n",
              "      <td>0.434719</td>\n",
              "      <td>0.451000</td>\n",
              "      <td>16.000000</td>\n",
              "      <td>22.000000</td>\n",
              "      <td>0.654000</td>\n",
              "      <td>12.000000</td>\n",
              "      <td>43.000000</td>\n",
              "      <td>55.000000</td>\n",
              "      <td>20.000000</td>\n",
              "      <td>9.000000</td>\n",
              "      <td>4.000000</td>\n",
              "      <td>21.000000</td>\n",
              "      <td>44.000000</td>\n",
              "      <td>115.000000</td>\n",
              "      <td>2013.0</td>\n",
              "    </tr>\n",
              "    <tr>\n",
              "      <th>50%</th>\n",
              "      <td>26.000000</td>\n",
              "      <td>61.000000</td>\n",
              "      <td>10.000000</td>\n",
              "      <td>1141.000000</td>\n",
              "      <td>146.000000</td>\n",
              "      <td>332.000000</td>\n",
              "      <td>0.438000</td>\n",
              "      <td>16.000000</td>\n",
              "      <td>48.000000</td>\n",
              "      <td>0.330976</td>\n",
              "      <td>110.000000</td>\n",
              "      <td>227.000000</td>\n",
              "      <td>0.474475</td>\n",
              "      <td>0.488000</td>\n",
              "      <td>53.000000</td>\n",
              "      <td>73.000000</td>\n",
              "      <td>0.751000</td>\n",
              "      <td>35.000000</td>\n",
              "      <td>135.000000</td>\n",
              "      <td>168.000000</td>\n",
              "      <td>65.000000</td>\n",
              "      <td>32.000000</td>\n",
              "      <td>14.000000</td>\n",
              "      <td>58.000000</td>\n",
              "      <td>104.000000</td>\n",
              "      <td>401.000000</td>\n",
              "      <td>2013.0</td>\n",
              "    </tr>\n",
              "    <tr>\n",
              "      <th>75%</th>\n",
              "      <td>29.000000</td>\n",
              "      <td>76.000000</td>\n",
              "      <td>54.000000</td>\n",
              "      <td>2016.000000</td>\n",
              "      <td>307.000000</td>\n",
              "      <td>672.000000</td>\n",
              "      <td>0.479500</td>\n",
              "      <td>68.000000</td>\n",
              "      <td>193.000000</td>\n",
              "      <td>0.375000</td>\n",
              "      <td>230.000000</td>\n",
              "      <td>459.000000</td>\n",
              "      <td>0.513729</td>\n",
              "      <td>0.526000</td>\n",
              "      <td>126.000000</td>\n",
              "      <td>179.000000</td>\n",
              "      <td>0.821000</td>\n",
              "      <td>73.000000</td>\n",
              "      <td>230.000000</td>\n",
              "      <td>310.000000</td>\n",
              "      <td>152.000000</td>\n",
              "      <td>60.000000</td>\n",
              "      <td>32.000000</td>\n",
              "      <td>108.000000</td>\n",
              "      <td>158.000000</td>\n",
              "      <td>821.000000</td>\n",
              "      <td>2013.0</td>\n",
              "    </tr>\n",
              "    <tr>\n",
              "      <th>max</th>\n",
              "      <td>39.000000</td>\n",
              "      <td>83.000000</td>\n",
              "      <td>82.000000</td>\n",
              "      <td>3122.000000</td>\n",
              "      <td>849.000000</td>\n",
              "      <td>1688.000000</td>\n",
              "      <td>1.000000</td>\n",
              "      <td>261.000000</td>\n",
              "      <td>615.000000</td>\n",
              "      <td>1.000000</td>\n",
              "      <td>706.000000</td>\n",
              "      <td>1408.000000</td>\n",
              "      <td>1.000000</td>\n",
              "      <td>1.000000</td>\n",
              "      <td>703.000000</td>\n",
              "      <td>805.000000</td>\n",
              "      <td>1.000000</td>\n",
              "      <td>440.000000</td>\n",
              "      <td>783.000000</td>\n",
              "      <td>1114.000000</td>\n",
              "      <td>721.000000</td>\n",
              "      <td>191.000000</td>\n",
              "      <td>219.000000</td>\n",
              "      <td>295.000000</td>\n",
              "      <td>273.000000</td>\n",
              "      <td>2593.000000</td>\n",
              "      <td>2013.0</td>\n",
              "    </tr>\n",
              "  </tbody>\n",
              "</table>\n",
              "</div>"
            ],
            "text/plain": [
              "              age           g          gs  ...          pf          pts  season_end\n",
              "count  481.000000  481.000000  481.000000  ...  481.000000   481.000000       481.0\n",
              "mean    26.509356   53.253638   25.571726  ...  105.869023   516.582121      2013.0\n",
              "std      4.198265   25.322711   29.658465  ...   71.213627   470.422228         0.0\n",
              "min     19.000000    1.000000    0.000000  ...    0.000000     0.000000      2013.0\n",
              "25%     23.000000   32.000000    0.000000  ...   44.000000   115.000000      2013.0\n",
              "50%     26.000000   61.000000   10.000000  ...  104.000000   401.000000      2013.0\n",
              "75%     29.000000   76.000000   54.000000  ...  158.000000   821.000000      2013.0\n",
              "max     39.000000   83.000000   82.000000  ...  273.000000  2593.000000      2013.0\n",
              "\n",
              "[8 rows x 27 columns]"
            ]
          },
          "metadata": {
            "tags": []
          },
          "execution_count": 5
        }
      ]
    },
    {
      "cell_type": "code",
      "metadata": {
        "id": "RUEZ10DtP5km",
        "colab_type": "code",
        "colab": {
          "base_uri": "https://localhost:8080/",
          "height": 572
        },
        "outputId": "714067ba-6f3b-43f0-aff1-eff52101a470"
      },
      "source": [
        "df.isna().sum()"
      ],
      "execution_count": 6,
      "outputs": [
        {
          "output_type": "execute_result",
          "data": {
            "text/plain": [
              "player           0\n",
              "pos              0\n",
              "age              0\n",
              "bref_team_id     0\n",
              "g                0\n",
              "gs               0\n",
              "mp               0\n",
              "fg               0\n",
              "fga              0\n",
              "fg.              2\n",
              "x3p              0\n",
              "x3pa             0\n",
              "x3p.            67\n",
              "x2p              0\n",
              "x2pa             0\n",
              "x2p.             3\n",
              "efg.             2\n",
              "ft               0\n",
              "fta              0\n",
              "ft.             20\n",
              "orb              0\n",
              "drb              0\n",
              "trb              0\n",
              "ast              0\n",
              "stl              0\n",
              "blk              0\n",
              "tov              0\n",
              "pf               0\n",
              "pts              0\n",
              "season           0\n",
              "season_end       0\n",
              "dtype: int64"
            ]
          },
          "metadata": {
            "tags": []
          },
          "execution_count": 6
        }
      ]
    },
    {
      "cell_type": "code",
      "metadata": {
        "id": "BJF4ASY6QHj4",
        "colab_type": "code",
        "colab": {
          "base_uri": "https://localhost:8080/",
          "height": 35
        },
        "outputId": "931de1f9-76ae-4663-f251-f808b8eccce5"
      },
      "source": [
        "df.duplicated().any()"
      ],
      "execution_count": 7,
      "outputs": [
        {
          "output_type": "execute_result",
          "data": {
            "text/plain": [
              "False"
            ]
          },
          "metadata": {
            "tags": []
          },
          "execution_count": 7
        }
      ]
    },
    {
      "cell_type": "code",
      "metadata": {
        "id": "Wa4Ko2veQa_g",
        "colab_type": "code",
        "colab": {}
      },
      "source": [
        "df.drop('player',axis=1,inplace=True)"
      ],
      "execution_count": 0,
      "outputs": []
    },
    {
      "cell_type": "code",
      "metadata": {
        "id": "wJoUdgQLQiAN",
        "colab_type": "code",
        "colab": {}
      },
      "source": [
        "df.drop('bref_team_id',axis=1,inplace=True)"
      ],
      "execution_count": 0,
      "outputs": []
    },
    {
      "cell_type": "code",
      "metadata": {
        "id": "le3WEq_KQrpL",
        "colab_type": "code",
        "colab": {}
      },
      "source": [
        "df.drop('season',axis=1,inplace=True)"
      ],
      "execution_count": 0,
      "outputs": []
    },
    {
      "cell_type": "code",
      "metadata": {
        "id": "gSsUnfEmQvgI",
        "colab_type": "code",
        "colab": {}
      },
      "source": [
        "df.drop('season_end',axis=1,inplace=True)\n"
      ],
      "execution_count": 0,
      "outputs": []
    },
    {
      "cell_type": "code",
      "metadata": {
        "id": "GN83ZgrvQ7Pj",
        "colab_type": "code",
        "colab": {
          "base_uri": "https://localhost:8080/",
          "height": 87
        },
        "outputId": "8703f00a-6d6e-4612-ab47-a1cddc38a3e7"
      },
      "source": [
        "df.columns"
      ],
      "execution_count": 12,
      "outputs": [
        {
          "output_type": "execute_result",
          "data": {
            "text/plain": [
              "Index(['pos', 'age', 'g', 'gs', 'mp', 'fg', 'fga', 'fg.', 'x3p', 'x3pa',\n",
              "       'x3p.', 'x2p', 'x2pa', 'x2p.', 'efg.', 'ft', 'fta', 'ft.', 'orb', 'drb',\n",
              "       'trb', 'ast', 'stl', 'blk', 'tov', 'pf', 'pts'],\n",
              "      dtype='object')"
            ]
          },
          "metadata": {
            "tags": []
          },
          "execution_count": 12
        }
      ]
    },
    {
      "cell_type": "code",
      "metadata": {
        "id": "xD9r_k_GRLwH",
        "colab_type": "code",
        "colab": {
          "base_uri": "https://localhost:8080/",
          "height": 156
        },
        "outputId": "f4ae50ed-c6e0-4a49-c743-64fffdc42be7"
      },
      "source": [
        "df['pos'].value_counts()\n"
      ],
      "execution_count": 13,
      "outputs": [
        {
          "output_type": "execute_result",
          "data": {
            "text/plain": [
              "SG    109\n",
              "SF     99\n",
              "PF     96\n",
              "C      90\n",
              "PG     85\n",
              "F       1\n",
              "G       1\n",
              "Name: pos, dtype: int64"
            ]
          },
          "metadata": {
            "tags": []
          },
          "execution_count": 13
        }
      ]
    },
    {
      "cell_type": "code",
      "metadata": {
        "id": "gwa5sLUSRoLA",
        "colab_type": "code",
        "colab": {
          "base_uri": "https://localhost:8080/",
          "height": 202
        },
        "outputId": "202f5d67-1af4-4e15-c56d-b7e20b0bf8b0"
      },
      "source": [
        "pos_new = pd.get_dummies(df['pos'],prefix='pos',drop_first=True)\n",
        "pos_new.head()\n"
      ],
      "execution_count": 14,
      "outputs": [
        {
          "output_type": "execute_result",
          "data": {
            "text/html": [
              "<div>\n",
              "<style scoped>\n",
              "    .dataframe tbody tr th:only-of-type {\n",
              "        vertical-align: middle;\n",
              "    }\n",
              "\n",
              "    .dataframe tbody tr th {\n",
              "        vertical-align: top;\n",
              "    }\n",
              "\n",
              "    .dataframe thead th {\n",
              "        text-align: right;\n",
              "    }\n",
              "</style>\n",
              "<table border=\"1\" class=\"dataframe\">\n",
              "  <thead>\n",
              "    <tr style=\"text-align: right;\">\n",
              "      <th></th>\n",
              "      <th>pos_F</th>\n",
              "      <th>pos_G</th>\n",
              "      <th>pos_PF</th>\n",
              "      <th>pos_PG</th>\n",
              "      <th>pos_SF</th>\n",
              "      <th>pos_SG</th>\n",
              "    </tr>\n",
              "  </thead>\n",
              "  <tbody>\n",
              "    <tr>\n",
              "      <th>0</th>\n",
              "      <td>0</td>\n",
              "      <td>0</td>\n",
              "      <td>0</td>\n",
              "      <td>0</td>\n",
              "      <td>1</td>\n",
              "      <td>0</td>\n",
              "    </tr>\n",
              "    <tr>\n",
              "      <th>1</th>\n",
              "      <td>0</td>\n",
              "      <td>0</td>\n",
              "      <td>0</td>\n",
              "      <td>0</td>\n",
              "      <td>0</td>\n",
              "      <td>0</td>\n",
              "    </tr>\n",
              "    <tr>\n",
              "      <th>2</th>\n",
              "      <td>0</td>\n",
              "      <td>0</td>\n",
              "      <td>1</td>\n",
              "      <td>0</td>\n",
              "      <td>0</td>\n",
              "      <td>0</td>\n",
              "    </tr>\n",
              "    <tr>\n",
              "      <th>3</th>\n",
              "      <td>0</td>\n",
              "      <td>0</td>\n",
              "      <td>0</td>\n",
              "      <td>0</td>\n",
              "      <td>0</td>\n",
              "      <td>1</td>\n",
              "    </tr>\n",
              "    <tr>\n",
              "      <th>4</th>\n",
              "      <td>0</td>\n",
              "      <td>0</td>\n",
              "      <td>0</td>\n",
              "      <td>0</td>\n",
              "      <td>0</td>\n",
              "      <td>0</td>\n",
              "    </tr>\n",
              "  </tbody>\n",
              "</table>\n",
              "</div>"
            ],
            "text/plain": [
              "   pos_F  pos_G  pos_PF  pos_PG  pos_SF  pos_SG\n",
              "0      0      0       0       0       1       0\n",
              "1      0      0       0       0       0       0\n",
              "2      0      0       1       0       0       0\n",
              "3      0      0       0       0       0       1\n",
              "4      0      0       0       0       0       0"
            ]
          },
          "metadata": {
            "tags": []
          },
          "execution_count": 14
        }
      ]
    },
    {
      "cell_type": "code",
      "metadata": {
        "id": "ugFD80szR2jy",
        "colab_type": "code",
        "colab": {}
      },
      "source": [
        "df.drop('pos',axis=1,inplace=True)\n"
      ],
      "execution_count": 0,
      "outputs": []
    },
    {
      "cell_type": "code",
      "metadata": {
        "id": "Dz_tdozKR_pY",
        "colab_type": "code",
        "colab": {}
      },
      "source": [
        "df = pd.concat([df,pos_new],axis=1)\n"
      ],
      "execution_count": 0,
      "outputs": []
    },
    {
      "cell_type": "code",
      "metadata": {
        "id": "WtcXKsQ6SNLF",
        "colab_type": "code",
        "colab": {
          "base_uri": "https://localhost:8080/",
          "height": 659
        },
        "outputId": "98e976c6-5efa-420e-e5fd-4e71e2c13433"
      },
      "source": [
        "df.info()"
      ],
      "execution_count": 17,
      "outputs": [
        {
          "output_type": "stream",
          "text": [
            "<class 'pandas.core.frame.DataFrame'>\n",
            "RangeIndex: 481 entries, 0 to 480\n",
            "Data columns (total 32 columns):\n",
            "age       481 non-null int64\n",
            "g         481 non-null int64\n",
            "gs        481 non-null int64\n",
            "mp        481 non-null int64\n",
            "fg        481 non-null int64\n",
            "fga       481 non-null int64\n",
            "fg.       479 non-null float64\n",
            "x3p       481 non-null int64\n",
            "x3pa      481 non-null int64\n",
            "x3p.      414 non-null float64\n",
            "x2p       481 non-null int64\n",
            "x2pa      481 non-null int64\n",
            "x2p.      478 non-null float64\n",
            "efg.      479 non-null float64\n",
            "ft        481 non-null int64\n",
            "fta       481 non-null int64\n",
            "ft.       461 non-null float64\n",
            "orb       481 non-null int64\n",
            "drb       481 non-null int64\n",
            "trb       481 non-null int64\n",
            "ast       481 non-null int64\n",
            "stl       481 non-null int64\n",
            "blk       481 non-null int64\n",
            "tov       481 non-null int64\n",
            "pf        481 non-null int64\n",
            "pts       481 non-null int64\n",
            "pos_F     481 non-null uint8\n",
            "pos_G     481 non-null uint8\n",
            "pos_PF    481 non-null uint8\n",
            "pos_PG    481 non-null uint8\n",
            "pos_SF    481 non-null uint8\n",
            "pos_SG    481 non-null uint8\n",
            "dtypes: float64(5), int64(21), uint8(6)\n",
            "memory usage: 100.6 KB\n"
          ],
          "name": "stdout"
        }
      ]
    },
    {
      "cell_type": "code",
      "metadata": {
        "id": "Efcg7xyaSNOS",
        "colab_type": "code",
        "colab": {
          "base_uri": "https://localhost:8080/",
          "height": 589
        },
        "outputId": "50f34d85-1d4d-4a9d-c307-1d3db1916f47"
      },
      "source": [
        "df.isna().sum()"
      ],
      "execution_count": 18,
      "outputs": [
        {
          "output_type": "execute_result",
          "data": {
            "text/plain": [
              "age        0\n",
              "g          0\n",
              "gs         0\n",
              "mp         0\n",
              "fg         0\n",
              "fga        0\n",
              "fg.        2\n",
              "x3p        0\n",
              "x3pa       0\n",
              "x3p.      67\n",
              "x2p        0\n",
              "x2pa       0\n",
              "x2p.       3\n",
              "efg.       2\n",
              "ft         0\n",
              "fta        0\n",
              "ft.       20\n",
              "orb        0\n",
              "drb        0\n",
              "trb        0\n",
              "ast        0\n",
              "stl        0\n",
              "blk        0\n",
              "tov        0\n",
              "pf         0\n",
              "pts        0\n",
              "pos_F      0\n",
              "pos_G      0\n",
              "pos_PF     0\n",
              "pos_PG     0\n",
              "pos_SF     0\n",
              "pos_SG     0\n",
              "dtype: int64"
            ]
          },
          "metadata": {
            "tags": []
          },
          "execution_count": 18
        }
      ]
    },
    {
      "cell_type": "code",
      "metadata": {
        "id": "qPMASwOPSe7v",
        "colab_type": "code",
        "colab": {}
      },
      "source": [
        "df['fg.'].fillna(df['fg.'].median(),inplace=True)\n"
      ],
      "execution_count": 0,
      "outputs": []
    },
    {
      "cell_type": "code",
      "metadata": {
        "id": "1TB01mdGSmLl",
        "colab_type": "code",
        "colab": {}
      },
      "source": [
        "df['x3p.'].fillna(df['x3p.'].median(),inplace=True)\n"
      ],
      "execution_count": 0,
      "outputs": []
    },
    {
      "cell_type": "code",
      "metadata": {
        "id": "keagnZCjSs-d",
        "colab_type": "code",
        "colab": {}
      },
      "source": [
        "df['x2p.'].fillna(df['x2p.'].median(),inplace=True)\n"
      ],
      "execution_count": 0,
      "outputs": []
    },
    {
      "cell_type": "code",
      "metadata": {
        "id": "ZpSNRvEjS5DN",
        "colab_type": "code",
        "colab": {}
      },
      "source": [
        "df['efg.'].fillna(df['efg.'].median(),inplace=True)\n"
      ],
      "execution_count": 0,
      "outputs": []
    },
    {
      "cell_type": "code",
      "metadata": {
        "id": "5sI5JjLGTC-V",
        "colab_type": "code",
        "colab": {}
      },
      "source": [
        "df['ft.'].fillna(df['ft.'].median(),inplace=True)\n"
      ],
      "execution_count": 0,
      "outputs": []
    },
    {
      "cell_type": "code",
      "metadata": {
        "id": "vz7ts8D0TJuN",
        "colab_type": "code",
        "colab": {
          "base_uri": "https://localhost:8080/",
          "height": 589
        },
        "outputId": "a03c7ed6-4612-4274-cdf7-55793672e56c"
      },
      "source": [
        "df.isna().sum()\n"
      ],
      "execution_count": 24,
      "outputs": [
        {
          "output_type": "execute_result",
          "data": {
            "text/plain": [
              "age       0\n",
              "g         0\n",
              "gs        0\n",
              "mp        0\n",
              "fg        0\n",
              "fga       0\n",
              "fg.       0\n",
              "x3p       0\n",
              "x3pa      0\n",
              "x3p.      0\n",
              "x2p       0\n",
              "x2pa      0\n",
              "x2p.      0\n",
              "efg.      0\n",
              "ft        0\n",
              "fta       0\n",
              "ft.       0\n",
              "orb       0\n",
              "drb       0\n",
              "trb       0\n",
              "ast       0\n",
              "stl       0\n",
              "blk       0\n",
              "tov       0\n",
              "pf        0\n",
              "pts       0\n",
              "pos_F     0\n",
              "pos_G     0\n",
              "pos_PF    0\n",
              "pos_PG    0\n",
              "pos_SF    0\n",
              "pos_SG    0\n",
              "dtype: int64"
            ]
          },
          "metadata": {
            "tags": []
          },
          "execution_count": 24
        }
      ]
    },
    {
      "cell_type": "code",
      "metadata": {
        "id": "fIns9EbpTODW",
        "colab_type": "code",
        "colab": {
          "base_uri": "https://localhost:8080/",
          "height": 121
        },
        "outputId": "933d2fbd-f125-4dc3-e334-984334669042"
      },
      "source": [
        "df_y = df['pts']\n",
        "df_y.head()"
      ],
      "execution_count": 25,
      "outputs": [
        {
          "output_type": "execute_result",
          "data": {
            "text/plain": [
              "0     171\n",
              "1     265\n",
              "2     362\n",
              "3    1330\n",
              "4     328\n",
              "Name: pts, dtype: int64"
            ]
          },
          "metadata": {
            "tags": []
          },
          "execution_count": 25
        }
      ]
    },
    {
      "cell_type": "code",
      "metadata": {
        "id": "WgEnDDVYTd8f",
        "colab_type": "code",
        "colab": {
          "base_uri": "https://localhost:8080/",
          "height": 222
        },
        "outputId": "d9adc890-8448-460d-ce2d-1c91b7b2b0b9"
      },
      "source": [
        "df_x = df.drop(['pts'], 1)\n",
        "df_x.head()\n"
      ],
      "execution_count": 26,
      "outputs": [
        {
          "output_type": "execute_result",
          "data": {
            "text/html": [
              "<div>\n",
              "<style scoped>\n",
              "    .dataframe tbody tr th:only-of-type {\n",
              "        vertical-align: middle;\n",
              "    }\n",
              "\n",
              "    .dataframe tbody tr th {\n",
              "        vertical-align: top;\n",
              "    }\n",
              "\n",
              "    .dataframe thead th {\n",
              "        text-align: right;\n",
              "    }\n",
              "</style>\n",
              "<table border=\"1\" class=\"dataframe\">\n",
              "  <thead>\n",
              "    <tr style=\"text-align: right;\">\n",
              "      <th></th>\n",
              "      <th>age</th>\n",
              "      <th>g</th>\n",
              "      <th>gs</th>\n",
              "      <th>mp</th>\n",
              "      <th>fg</th>\n",
              "      <th>fga</th>\n",
              "      <th>fg.</th>\n",
              "      <th>x3p</th>\n",
              "      <th>x3pa</th>\n",
              "      <th>x3p.</th>\n",
              "      <th>x2p</th>\n",
              "      <th>x2pa</th>\n",
              "      <th>x2p.</th>\n",
              "      <th>efg.</th>\n",
              "      <th>ft</th>\n",
              "      <th>fta</th>\n",
              "      <th>ft.</th>\n",
              "      <th>orb</th>\n",
              "      <th>drb</th>\n",
              "      <th>trb</th>\n",
              "      <th>ast</th>\n",
              "      <th>stl</th>\n",
              "      <th>blk</th>\n",
              "      <th>tov</th>\n",
              "      <th>pf</th>\n",
              "      <th>pos_F</th>\n",
              "      <th>pos_G</th>\n",
              "      <th>pos_PF</th>\n",
              "      <th>pos_PG</th>\n",
              "      <th>pos_SF</th>\n",
              "      <th>pos_SG</th>\n",
              "    </tr>\n",
              "  </thead>\n",
              "  <tbody>\n",
              "    <tr>\n",
              "      <th>0</th>\n",
              "      <td>23</td>\n",
              "      <td>63</td>\n",
              "      <td>0</td>\n",
              "      <td>847</td>\n",
              "      <td>66</td>\n",
              "      <td>141</td>\n",
              "      <td>0.468</td>\n",
              "      <td>4</td>\n",
              "      <td>15</td>\n",
              "      <td>0.266667</td>\n",
              "      <td>62</td>\n",
              "      <td>126</td>\n",
              "      <td>0.492063</td>\n",
              "      <td>0.482</td>\n",
              "      <td>35</td>\n",
              "      <td>53</td>\n",
              "      <td>0.660</td>\n",
              "      <td>72</td>\n",
              "      <td>144</td>\n",
              "      <td>216</td>\n",
              "      <td>28</td>\n",
              "      <td>23</td>\n",
              "      <td>26</td>\n",
              "      <td>30</td>\n",
              "      <td>122</td>\n",
              "      <td>0</td>\n",
              "      <td>0</td>\n",
              "      <td>0</td>\n",
              "      <td>0</td>\n",
              "      <td>1</td>\n",
              "      <td>0</td>\n",
              "    </tr>\n",
              "    <tr>\n",
              "      <th>1</th>\n",
              "      <td>20</td>\n",
              "      <td>81</td>\n",
              "      <td>20</td>\n",
              "      <td>1197</td>\n",
              "      <td>93</td>\n",
              "      <td>185</td>\n",
              "      <td>0.503</td>\n",
              "      <td>0</td>\n",
              "      <td>0</td>\n",
              "      <td>0.330976</td>\n",
              "      <td>93</td>\n",
              "      <td>185</td>\n",
              "      <td>0.502703</td>\n",
              "      <td>0.503</td>\n",
              "      <td>79</td>\n",
              "      <td>136</td>\n",
              "      <td>0.581</td>\n",
              "      <td>142</td>\n",
              "      <td>190</td>\n",
              "      <td>332</td>\n",
              "      <td>43</td>\n",
              "      <td>40</td>\n",
              "      <td>57</td>\n",
              "      <td>71</td>\n",
              "      <td>203</td>\n",
              "      <td>0</td>\n",
              "      <td>0</td>\n",
              "      <td>0</td>\n",
              "      <td>0</td>\n",
              "      <td>0</td>\n",
              "      <td>0</td>\n",
              "    </tr>\n",
              "    <tr>\n",
              "      <th>2</th>\n",
              "      <td>27</td>\n",
              "      <td>53</td>\n",
              "      <td>12</td>\n",
              "      <td>961</td>\n",
              "      <td>143</td>\n",
              "      <td>275</td>\n",
              "      <td>0.520</td>\n",
              "      <td>0</td>\n",
              "      <td>0</td>\n",
              "      <td>0.330976</td>\n",
              "      <td>143</td>\n",
              "      <td>275</td>\n",
              "      <td>0.520000</td>\n",
              "      <td>0.520</td>\n",
              "      <td>76</td>\n",
              "      <td>119</td>\n",
              "      <td>0.639</td>\n",
              "      <td>102</td>\n",
              "      <td>204</td>\n",
              "      <td>306</td>\n",
              "      <td>38</td>\n",
              "      <td>24</td>\n",
              "      <td>36</td>\n",
              "      <td>39</td>\n",
              "      <td>108</td>\n",
              "      <td>0</td>\n",
              "      <td>0</td>\n",
              "      <td>1</td>\n",
              "      <td>0</td>\n",
              "      <td>0</td>\n",
              "      <td>0</td>\n",
              "    </tr>\n",
              "    <tr>\n",
              "      <th>3</th>\n",
              "      <td>28</td>\n",
              "      <td>73</td>\n",
              "      <td>73</td>\n",
              "      <td>2552</td>\n",
              "      <td>464</td>\n",
              "      <td>1011</td>\n",
              "      <td>0.459</td>\n",
              "      <td>128</td>\n",
              "      <td>300</td>\n",
              "      <td>0.426667</td>\n",
              "      <td>336</td>\n",
              "      <td>711</td>\n",
              "      <td>0.472574</td>\n",
              "      <td>0.522</td>\n",
              "      <td>274</td>\n",
              "      <td>336</td>\n",
              "      <td>0.815</td>\n",
              "      <td>32</td>\n",
              "      <td>230</td>\n",
              "      <td>262</td>\n",
              "      <td>248</td>\n",
              "      <td>35</td>\n",
              "      <td>3</td>\n",
              "      <td>146</td>\n",
              "      <td>136</td>\n",
              "      <td>0</td>\n",
              "      <td>0</td>\n",
              "      <td>0</td>\n",
              "      <td>0</td>\n",
              "      <td>0</td>\n",
              "      <td>1</td>\n",
              "    </tr>\n",
              "    <tr>\n",
              "      <th>4</th>\n",
              "      <td>25</td>\n",
              "      <td>56</td>\n",
              "      <td>30</td>\n",
              "      <td>951</td>\n",
              "      <td>136</td>\n",
              "      <td>249</td>\n",
              "      <td>0.546</td>\n",
              "      <td>0</td>\n",
              "      <td>1</td>\n",
              "      <td>0.000000</td>\n",
              "      <td>136</td>\n",
              "      <td>248</td>\n",
              "      <td>0.548387</td>\n",
              "      <td>0.546</td>\n",
              "      <td>56</td>\n",
              "      <td>67</td>\n",
              "      <td>0.836</td>\n",
              "      <td>94</td>\n",
              "      <td>183</td>\n",
              "      <td>277</td>\n",
              "      <td>40</td>\n",
              "      <td>23</td>\n",
              "      <td>46</td>\n",
              "      <td>63</td>\n",
              "      <td>187</td>\n",
              "      <td>0</td>\n",
              "      <td>0</td>\n",
              "      <td>0</td>\n",
              "      <td>0</td>\n",
              "      <td>0</td>\n",
              "      <td>0</td>\n",
              "    </tr>\n",
              "  </tbody>\n",
              "</table>\n",
              "</div>"
            ],
            "text/plain": [
              "   age   g  gs    mp   fg   fga  ...  pos_F  pos_G  pos_PF  pos_PG  pos_SF  pos_SG\n",
              "0   23  63   0   847   66   141  ...      0      0       0       0       1       0\n",
              "1   20  81  20  1197   93   185  ...      0      0       0       0       0       0\n",
              "2   27  53  12   961  143   275  ...      0      0       1       0       0       0\n",
              "3   28  73  73  2552  464  1011  ...      0      0       0       0       0       1\n",
              "4   25  56  30   951  136   249  ...      0      0       0       0       0       0\n",
              "\n",
              "[5 rows x 31 columns]"
            ]
          },
          "metadata": {
            "tags": []
          },
          "execution_count": 26
        }
      ]
    },
    {
      "cell_type": "code",
      "metadata": {
        "id": "S7XDsf8mTk4R",
        "colab_type": "code",
        "colab": {}
      },
      "source": [
        "normalized_nba_feature = preprocessing.normalize(df_x)"
      ],
      "execution_count": 0,
      "outputs": []
    },
    {
      "cell_type": "code",
      "metadata": {
        "id": "d-6qzfAjT7N9",
        "colab_type": "code",
        "colab": {}
      },
      "source": [
        "X_train, X_test, y_train, y_test = train_test_split(\n",
        " normalized_nba_feature, df_y, train_size=0.75, test_size=0.25, random_state = 100)"
      ],
      "execution_count": 0,
      "outputs": []
    },
    {
      "cell_type": "code",
      "metadata": {
        "id": "bS4bUijIUDrA",
        "colab_type": "code",
        "colab": {
          "base_uri": "https://localhost:8080/",
          "height": 451
        },
        "outputId": "94fb9572-1d18-4feb-e84c-40c46d541ace"
      },
      "source": [
        "for K in range(25):\n",
        "    K_value = K+1\n",
        "    neigh = KNeighborsClassifier(n_neighbors = K_value, weights='distance', algorithm='auto',metric='minkowski')\n",
        "    neigh.fit(X_train, y_train)\n",
        "    y_pred = neigh.predict(X_test)\n",
        "    print(\"Accuracy is \", accuracy_score(y_test,y_pred)*1000,\"% for K-Value:\",K_value)"
      ],
      "execution_count": 29,
      "outputs": [
        {
          "output_type": "stream",
          "text": [
            "Accuracy is  57.85123966942149 % for K-Value: 1\n",
            "Accuracy is  57.85123966942149 % for K-Value: 2\n",
            "Accuracy is  66.11570247933885 % for K-Value: 3\n",
            "Accuracy is  57.85123966942149 % for K-Value: 4\n",
            "Accuracy is  49.586776859504134 % for K-Value: 5\n",
            "Accuracy is  49.586776859504134 % for K-Value: 6\n",
            "Accuracy is  57.85123966942149 % for K-Value: 7\n",
            "Accuracy is  57.85123966942149 % for K-Value: 8\n",
            "Accuracy is  57.85123966942149 % for K-Value: 9\n",
            "Accuracy is  57.85123966942149 % for K-Value: 10\n",
            "Accuracy is  66.11570247933885 % for K-Value: 11\n",
            "Accuracy is  66.11570247933885 % for K-Value: 12\n",
            "Accuracy is  66.11570247933885 % for K-Value: 13\n",
            "Accuracy is  66.11570247933885 % for K-Value: 14\n",
            "Accuracy is  66.11570247933885 % for K-Value: 15\n",
            "Accuracy is  66.11570247933885 % for K-Value: 16\n",
            "Accuracy is  66.11570247933885 % for K-Value: 17\n",
            "Accuracy is  57.85123966942149 % for K-Value: 18\n",
            "Accuracy is  57.85123966942149 % for K-Value: 19\n",
            "Accuracy is  57.85123966942149 % for K-Value: 20\n",
            "Accuracy is  49.586776859504134 % for K-Value: 21\n",
            "Accuracy is  41.32231404958678 % for K-Value: 22\n",
            "Accuracy is  41.32231404958678 % for K-Value: 23\n",
            "Accuracy is  41.32231404958678 % for K-Value: 24\n",
            "Accuracy is  41.32231404958678 % for K-Value: 25\n"
          ],
          "name": "stdout"
        }
      ]
    },
    {
      "cell_type": "markdown",
      "metadata": {
        "id": "JhQHpnByUbuX",
        "colab_type": "text"
      },
      "source": [
        "66.11% accuracy on K = 3,11,12,13,14,15,16,17. A larger value of K will lead to greater amount of execution time & hence underfitting. The small value of K will lead to overfitting. There is no such guaranteed way to find the best value of K. So, for quick run K = 3."
      ]
    }
  ]
}